{
 "cells": [
  {
   "cell_type": "code",
   "execution_count": null,
   "id": "c6ec0aa9-8f31-4dec-83e7-38ef7b25286f",
   "metadata": {},
   "outputs": [],
   "source": [
    "from pgmpy.estimators import ExhaustiveSearch\n",
    "from pgmpy.estimators import K2Score\n",
    "from pgmpy.models import BayesianNetwork\n",
    "import pandas as pd\n"
   ]
  },
  {
   "cell_type": "code",
   "execution_count": 1,
   "id": "15cb991a-9727-4621-90de-56ccf00573bd",
   "metadata": {},
   "outputs": [
    {
     "ename": "NameError",
     "evalue": "name 'pd' is not defined",
     "output_type": "error",
     "traceback": [
      "\u001b[0;31m---------------------------------------------------------------------------\u001b[0m",
      "\u001b[0;31mNameError\u001b[0m                                 Traceback (most recent call last)",
      "Cell \u001b[0;32mIn[1], line 1\u001b[0m\n\u001b[0;32m----> 1\u001b[0m df \u001b[38;5;241m=\u001b[39m \u001b[43mpd\u001b[49m\u001b[38;5;241m.\u001b[39mread_csv(\u001b[38;5;124m'\u001b[39m\u001b[38;5;124mcardiovascular_train.csv\u001b[39m\u001b[38;5;124m'\u001b[39m)\n\u001b[1;32m      3\u001b[0m k2 \u001b[38;5;241m=\u001b[39m K2Score(df)\n\u001b[1;32m      4\u001b[0m es \u001b[38;5;241m=\u001b[39m ExhaustiveSearch(data\u001b[38;5;241m=\u001b[39mdf, scoring_method\u001b[38;5;241m=\u001b[39mk2)\n",
      "\u001b[0;31mNameError\u001b[0m: name 'pd' is not defined"
     ]
    }
   ],
   "source": [
    "import \n",
    "\n",
    "df = pd.read_csv('cardiovascular_train.csv')\n",
    "\n",
    "k2 = K2Score(df)\n",
    "es = ExhaustiveSearch(data=df, scoring_method=k2)\n",
    "best_model = es.estimate()\n",
    "print('Edges:', best_model.edges())\n",
    "print('Bayesian score:', k2.score(best_model))"
   ]
  },
  {
   "cell_type": "code",
   "execution_count": null,
   "id": "0f4399c7-ca07-4dd1-a50f-910d5b47514f",
   "metadata": {},
   "outputs": [],
   "source": []
  }
 ],
 "metadata": {
  "kernelspec": {
   "display_name": "Python AAA",
   "language": "python",
   "name": "aaa"
  },
  "language_info": {
   "codemirror_mode": {
    "name": "ipython",
    "version": 3
   },
   "file_extension": ".py",
   "mimetype": "text/x-python",
   "name": "python",
   "nbconvert_exporter": "python",
   "pygments_lexer": "ipython3",
   "version": "3.12.7"
  }
 },
 "nbformat": 4,
 "nbformat_minor": 5
}
